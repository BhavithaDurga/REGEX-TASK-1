{
 "cells": [
  {
   "cell_type": "markdown",
   "id": "7f975ca9",
   "metadata": {},
   "source": [
    "# 1"
   ]
  },
  {
   "cell_type": "code",
   "execution_count": 5,
   "id": "ca8d5f43",
   "metadata": {},
   "outputs": [
    {
     "name": "stdout",
     "output_type": "stream",
     "text": [
      "5\n",
      "5 5 5 5 5  \n",
      "5 5 5 5  \n",
      "5 5 5  \n",
      "5 5  \n",
      "5  \n",
      " \n"
     ]
    }
   ],
   "source": [
    "n=int(input())\n",
    "for i in range(n+1,0,-1):\n",
    "    for j in range(0,i-1):\n",
    "        print('5',end=\" \")\n",
    "    print(\" \")"
   ]
  },
  {
   "cell_type": "markdown",
   "id": "76452127",
   "metadata": {},
   "source": [
    "# 2"
   ]
  },
  {
   "cell_type": "code",
   "execution_count": 6,
   "id": "0658b367",
   "metadata": {},
   "outputs": [
    {
     "name": "stdout",
     "output_type": "stream",
     "text": [
      "5\n",
      "0 1 2 3 4 5 \n",
      "0 1 2 3 4 \n",
      "0 1 2 3 \n",
      "0 1 2 \n",
      "0 1 \n"
     ]
    }
   ],
   "source": [
    "n=int(input())\n",
    "for i in range(n+1,1,-1):\n",
    "    for j in range(i):\n",
    "        print(j,end=\" \")\n",
    "    print(\"\")"
   ]
  },
  {
   "cell_type": "markdown",
   "id": "c192a6ce",
   "metadata": {},
   "source": [
    "# 3"
   ]
  },
  {
   "cell_type": "code",
   "execution_count": 8,
   "id": "be86e11a",
   "metadata": {},
   "outputs": [
    {
     "name": "stdout",
     "output_type": "stream",
     "text": [
      "5\n",
      "1  \n",
      "3 3  \n",
      "5 5 5  \n",
      "7 7 7 7  \n",
      "9 9 9 9 9  \n"
     ]
    }
   ],
   "source": [
    "n=int(input())\n",
    "for i in range(1,2*n,2):\n",
    "    for j in range(0,i,2):\n",
    "        print(i,end=\" \")\n",
    "    print(\" \")"
   ]
  },
  {
   "cell_type": "markdown",
   "id": "2795e23c",
   "metadata": {},
   "source": [
    "# 4"
   ]
  },
  {
   "cell_type": "code",
   "execution_count": 9,
   "id": "33d54910",
   "metadata": {},
   "outputs": [
    {
     "name": "stdout",
     "output_type": "stream",
     "text": [
      "5\n",
      "1  \n",
      "2 1  \n",
      "3 2 1  \n",
      "4 3 2 1  \n",
      "5 4 3 2 1  \n"
     ]
    }
   ],
   "source": [
    "n=int(input())\n",
    "for i in range(1,n+1):\n",
    "    for j in range(i,0,-1):\n",
    "        print(j,end=\" \")\n",
    "    print(\" \")"
   ]
  },
  {
   "cell_type": "markdown",
   "id": "da94d199",
   "metadata": {},
   "source": [
    "# 5"
   ]
  },
  {
   "cell_type": "code",
   "execution_count": 12,
   "id": "6812b8f9",
   "metadata": {},
   "outputs": [
    {
     "name": "stdout",
     "output_type": "stream",
     "text": [
      "5\n",
      "1  \n",
      "3 2  \n",
      "6 5 4  \n",
      "10 9 8 7  \n"
     ]
    }
   ],
   "source": [
    "n=int(input())\n",
    "a,b=1,2\n",
    "c=b\n",
    "for i in range(2,n+1):\n",
    "    for j in range(a,b):\n",
    "        c-=1\n",
    "        print(c,end=' ')\n",
    "    print(\" \")\n",
    "    a=b\n",
    "    b+=i\n",
    "    c=b"
   ]
  },
  {
   "cell_type": "markdown",
   "id": "f5db2143",
   "metadata": {},
   "source": [
    "# 6"
   ]
  },
  {
   "cell_type": "code",
   "execution_count": 15,
   "id": "7201cf68",
   "metadata": {},
   "outputs": [
    {
     "name": "stdout",
     "output_type": "stream",
     "text": [
      "7\n",
      "1  \n",
      "1 1  \n",
      "1 2 1  \n",
      "1 3 3 1  \n",
      "1 4 6 4 1  \n",
      "1 5 10 10 5 1  \n",
      "1 6 15 20 15 6 1  \n"
     ]
    }
   ],
   "source": [
    "n=int(input())\n",
    "for i in range(0,n):\n",
    "    for j in range(0,i+1):\n",
    "        r=1\n",
    "        if(j>i-j):\n",
    "            j=i-j\n",
    "        for k in range(0,j):\n",
    "            r=r*(i-k)\n",
    "            r=r//(k+1)\n",
    "        print(r,end=\" \")\n",
    "    print(\" \")"
   ]
  },
  {
   "cell_type": "markdown",
   "id": "d953f0dd",
   "metadata": {},
   "source": [
    "# 7"
   ]
  },
  {
   "cell_type": "code",
   "execution_count": 16,
   "id": "6726e495",
   "metadata": {},
   "outputs": [
    {
     "name": "stdout",
     "output_type": "stream",
     "text": [
      "5\n",
      "1 2 3 4 5  \n",
      "2 2 3 4 5  \n",
      "3 3 3 4 5  \n",
      "4 4 4 4 5  \n",
      "5 5 5 5 5  \n"
     ]
    }
   ],
   "source": [
    "n=int(input())\n",
    "for i in range(1,n+1):\n",
    "    for j in range(1,n+1):\n",
    "        if(j<=i):\n",
    "            print(i,end=\" \")\n",
    "        else:\n",
    "            print(j,end=\" \")\n",
    "    print(\" \")"
   ]
  },
  {
   "cell_type": "markdown",
   "id": "146fdc22",
   "metadata": {},
   "source": [
    "# 8"
   ]
  },
  {
   "cell_type": "code",
   "execution_count": 17,
   "id": "1f4a2b8d",
   "metadata": {},
   "outputs": [
    {
     "name": "stdout",
     "output_type": "stream",
     "text": [
      "8\n",
      "1   \n",
      "2   4   \n",
      "3   6   9   \n",
      "4   8   12   16   \n",
      "5   10   15   20   25   \n",
      "6   12   18   24   30   36   \n",
      "7   14   21   28   35   42   49   \n",
      "8   16   24   32   40   48   56   64   \n"
     ]
    }
   ],
   "source": [
    "n=int(input())\n",
    "i=1\n",
    "j=1\n",
    "while i<=n:\n",
    "    j=1\n",
    "    while j<=i:\n",
    "        t=i*j\n",
    "        print(t,end=\" \")\n",
    "        print(\" \",end=\" \")\n",
    "        j=j+1\n",
    "    print(\"\")\n",
    "    i=i+1\n"
   ]
  },
  {
   "cell_type": "markdown",
   "id": "b833604e",
   "metadata": {},
   "source": [
    "# 9"
   ]
  },
  {
   "cell_type": "code",
   "execution_count": 18,
   "id": "169cbfec",
   "metadata": {},
   "outputs": [
    {
     "name": "stdout",
     "output_type": "stream",
     "text": [
      "6\n",
      "* * * * * * \n",
      " * * * * * \n",
      "  * * * * \n",
      "   * * * \n",
      "    * * \n",
      "     * \n"
     ]
    }
   ],
   "source": [
    "n=int(input())\n",
    "for i in range(n,0,-1):\n",
    "    for j in range(0,n-i):\n",
    "        print(end=\" \")\n",
    "    for i in range(i):\n",
    "        print(\"*\",end=' ')\n",
    "    print()"
   ]
  },
  {
   "cell_type": "markdown",
   "id": "9c6e2d51",
   "metadata": {},
   "source": [
    "# 10"
   ]
  },
  {
   "cell_type": "markdown",
   "id": "65ad4bca",
   "metadata": {},
   "source": [
    "n=int(input())\n",
    "m=(2*n)-2\n",
    "for i in range(0,n):\n",
    "    for j in range(0,m):\n",
    "        print(end=\" \")\n",
    "    m=m-1\n",
    "    for j in range(0,i+1):\n",
    "        print('*',end=\" \")\n",
    "    print(\" \")"
   ]
  },
  {
   "cell_type": "markdown",
   "id": "c06dbbf8",
   "metadata": {},
   "source": [
    "# 11"
   ]
  },
  {
   "cell_type": "code",
   "execution_count": 21,
   "id": "39c2ccfe",
   "metadata": {},
   "outputs": [
    {
     "name": "stdout",
     "output_type": "stream",
     "text": [
      "6\n",
      "*  \n",
      "* *  \n",
      "* * *  \n",
      "* * * *  \n",
      "* * * * *  \n",
      "* * * * * *  \n",
      " \n",
      "* * * * * *  \n",
      "* * * * *  \n",
      "* * * *  \n",
      "* * *  \n",
      "* *  \n",
      "*  \n",
      " \n"
     ]
    }
   ],
   "source": [
    "n=int(input())\n",
    "for i in range(0,n):\n",
    "    for j in range(0,i+1):\n",
    "        print(\"*\",end=\" \")\n",
    "    print(\" \")\n",
    "print(\" \")\n",
    "for i in range(n+1,0,-1):\n",
    "    for j in range(0,i-1):\n",
    "        print(\"*\",end=\" \")\n",
    "    print(\" \")"
   ]
  },
  {
   "cell_type": "markdown",
   "id": "8f338170",
   "metadata": {},
   "source": [
    "# 12"
   ]
  },
  {
   "cell_type": "code",
   "execution_count": 29,
   "id": "23636d83",
   "metadata": {},
   "outputs": [
    {
     "name": "stdout",
     "output_type": "stream",
     "text": [
      "5\n",
      "* \n",
      "* * \n",
      "* * * \n",
      "* * * * \n",
      "* * * * * \n",
      "* * * *  \n",
      "* * *  \n",
      "* *  \n",
      "*  \n",
      " \n"
     ]
    }
   ],
   "source": [
    "n=int(input())\n",
    "for i in range(0,n):\n",
    "    for j in range(0,i+1):\n",
    "        print(\"*\",end=' ')\n",
    "    print(\"\")\n",
    "for i in range(n,0,-1):\n",
    "    for j in range(0,i-1):\n",
    "        print(\"*\",end=\" \")\n",
    "    print(\" \")"
   ]
  },
  {
   "cell_type": "markdown",
   "id": "c9ac3e08",
   "metadata": {},
   "source": [
    "# 13"
   ]
  },
  {
   "cell_type": "code",
   "execution_count": 32,
   "id": "22a4d712",
   "metadata": {},
   "outputs": [
    {
     "name": "stdout",
     "output_type": "stream",
     "text": [
      "5\n",
      "        * \n",
      "      * * \n",
      "    * * * \n",
      "  * * * * \n",
      "* * * * * \n",
      "  * * * *  \n",
      "    * * *  \n",
      "      * *  \n",
      "        *  \n",
      "           \n"
     ]
    }
   ],
   "source": [
    "n=int(input())\n",
    "i=1\n",
    "while i<=n:\n",
    "    j=i\n",
    "    while j<n:\n",
    "        print(' ',end=' ')\n",
    "        j+=1\n",
    "    k=1\n",
    "    while k<=i:\n",
    "        print('*',end=' ')\n",
    "        k+=1\n",
    "    print()\n",
    "    i+=1\n",
    "i=n\n",
    "while i>=1:\n",
    "    j=i\n",
    "    while j<=n:\n",
    "        print(' ',end=' ')\n",
    "        j+=1\n",
    "    k=1\n",
    "    while k<i:\n",
    "        print('*',end=' ')\n",
    "        k+=1\n",
    "    print(' ')\n",
    "    i-=1"
   ]
  },
  {
   "cell_type": "markdown",
   "id": "453a8b2b",
   "metadata": {},
   "source": [
    "# 14"
   ]
  },
  {
   "cell_type": "code",
   "execution_count": 33,
   "id": "d275f4e2",
   "metadata": {},
   "outputs": [
    {
     "name": "stdout",
     "output_type": "stream",
     "text": [
      "5\n",
      "* * * * * \n",
      "  * * * * \n",
      "    * * * \n",
      "      * * \n",
      "        * \n",
      "        *  \n",
      "      * *  \n",
      "    * * *  \n",
      "  * * * *  \n",
      "* * * * *  \n"
     ]
    }
   ],
   "source": [
    "n=int(input())\n",
    "i=0\n",
    "while i<=n-1:\n",
    "    j=0\n",
    "    while j<i:\n",
    "        print(' ',end=' ')\n",
    "        j+=1\n",
    "    k=i\n",
    "    while k<=n-1:\n",
    "        print('*',end=' ')\n",
    "        k+=1\n",
    "    print()\n",
    "    i+=1\n",
    "i=n-1\n",
    "while i>=0:\n",
    "    j=0\n",
    "    while j<i:\n",
    "        print(' ',end=' ')\n",
    "        j+=1\n",
    "    k=i\n",
    "    while k<=n-1:\n",
    "        print('*',end=' ')\n",
    "        k+=1\n",
    "    print(' ')\n",
    "    i-=1"
   ]
  },
  {
   "cell_type": "markdown",
   "id": "3bd41304",
   "metadata": {},
   "source": [
    "# 15"
   ]
  },
  {
   "cell_type": "code",
   "execution_count": 37,
   "id": "282c9b71",
   "metadata": {},
   "outputs": [
    {
     "name": "stdout",
     "output_type": "stream",
     "text": [
      "20\n",
      "********************\n",
      "*********__*********\n",
      "********____********\n",
      "*******______*******\n",
      "******________******\n",
      "*****__________*****\n",
      "****____________****\n",
      "***______________***\n",
      "**________________**\n",
      "*__________________*\n"
     ]
    }
   ],
   "source": [
    "n=int(input())\n",
    "print(\"*\" *n,end=\"\\n\")\n",
    "i=(n//2)-1\n",
    "j=2\n",
    "while i!=0:\n",
    "    while j<=(n-2):\n",
    "        print(\"*\" *i,end=\"\")\n",
    "        print(\"_\" *j,end=\"\")\n",
    "        print(\"*\" *i,end=\"\\n\")\n",
    "        i=i-1\n",
    "        j=j+2"
   ]
  },
  {
   "cell_type": "code",
   "execution_count": null,
   "id": "a202b642",
   "metadata": {},
   "outputs": [],
   "source": []
  }
 ],
 "metadata": {
  "kernelspec": {
   "display_name": "Python 3",
   "language": "python",
   "name": "python3"
  },
  "language_info": {
   "codemirror_mode": {
    "name": "ipython",
    "version": 3
   },
   "file_extension": ".py",
   "mimetype": "text/x-python",
   "name": "python",
   "nbconvert_exporter": "python",
   "pygments_lexer": "ipython3",
   "version": "3.8.8"
  }
 },
 "nbformat": 4,
 "nbformat_minor": 5
}
